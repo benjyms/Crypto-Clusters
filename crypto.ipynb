{
 "cells": [
  {
   "cell_type": "markdown",
   "metadata": {},
   "source": [
    "### This Notebook will be used to evaluate and model various CryptoCurrency's available for investment.  the Analysis and results will be presented to the Advisory Services Team."
   ]
  },
  {
   "cell_type": "code",
   "execution_count": 132,
   "metadata": {},
   "outputs": [],
   "source": [
    "# import libraries\n",
    "import numpy as np\n",
    "import pandas as pd\n",
    "import matplotlib.pyplot as plt\n"
   ]
  },
  {
   "cell_type": "code",
   "execution_count": 133,
   "metadata": {},
   "outputs": [
    {
     "name": "stdout",
     "output_type": "stream",
     "text": [
      "<class 'pandas.core.frame.DataFrame'>\n",
      "RangeIndex: 1252 entries, 0 to 1251\n",
      "Data columns (total 7 columns):\n",
      " #   Column           Non-Null Count  Dtype  \n",
      "---  ------           --------------  -----  \n",
      " 0   Unnamed: 0       1252 non-null   object \n",
      " 1   CoinName         1252 non-null   object \n",
      " 2   Algorithm        1252 non-null   object \n",
      " 3   IsTrading        1252 non-null   bool   \n",
      " 4   ProofType        1252 non-null   object \n",
      " 5   TotalCoinsMined  744 non-null    float64\n",
      " 6   TotalCoinSupply  1252 non-null   object \n",
      "dtypes: bool(1), float64(1), object(5)\n",
      "memory usage: 60.0+ KB\n"
     ]
    }
   ],
   "source": [
    "# read in the data set\n",
    "df = pd.read_csv('crypto_data.csv')\n",
    "df.info()\n"
   ]
  },
  {
   "cell_type": "code",
   "execution_count": 134,
   "metadata": {},
   "outputs": [
    {
     "data": {
      "text/plain": [
       "True     1144\n",
       "False     108\n",
       "Name: IsTrading, dtype: int64"
      ]
     },
     "execution_count": 134,
     "metadata": {},
     "output_type": "execute_result"
    }
   ],
   "source": [
    "# count all unique values in the IsTrading Column\n",
    "df['IsTrading'].value_counts()\n"
   ]
  },
  {
   "cell_type": "code",
   "execution_count": 135,
   "metadata": {},
   "outputs": [
    {
     "data": {
      "text/plain": [
       "True    1144\n",
       "Name: IsTrading, dtype: int64"
      ]
     },
     "execution_count": 135,
     "metadata": {},
     "output_type": "execute_result"
    }
   ],
   "source": [
    "\n",
    "#  drop all rows where IsTrading = False\n",
    "df = df[df['IsTrading'] == True]\n",
    "\n",
    "# count all unique values in the IsTrading Column\n",
    "df['IsTrading'].value_counts()\n",
    "\n"
   ]
  },
  {
   "cell_type": "code",
   "execution_count": 136,
   "metadata": {},
   "outputs": [
    {
     "name": "stdout",
     "output_type": "stream",
     "text": [
      "<class 'pandas.core.frame.DataFrame'>\n",
      "Int64Index: 1144 entries, 0 to 1247\n",
      "Data columns (total 7 columns):\n",
      " #   Column           Non-Null Count  Dtype  \n",
      "---  ------           --------------  -----  \n",
      " 0   Unnamed: 0       1144 non-null   object \n",
      " 1   CoinName         1144 non-null   object \n",
      " 2   Algorithm        1144 non-null   object \n",
      " 3   IsTrading        1144 non-null   bool   \n",
      " 4   ProofType        1144 non-null   object \n",
      " 5   TotalCoinsMined  685 non-null    float64\n",
      " 6   TotalCoinSupply  1144 non-null   object \n",
      "dtypes: bool(1), float64(1), object(5)\n",
      "memory usage: 63.7+ KB\n"
     ]
    }
   ],
   "source": [
    "# review for null values\n",
    "df.info()"
   ]
  },
  {
   "cell_type": "code",
   "execution_count": 137,
   "metadata": {},
   "outputs": [
    {
     "name": "stdout",
     "output_type": "stream",
     "text": [
      "<class 'pandas.core.frame.DataFrame'>\n",
      "Int64Index: 685 entries, 0 to 1247\n",
      "Data columns (total 7 columns):\n",
      " #   Column           Non-Null Count  Dtype  \n",
      "---  ------           --------------  -----  \n",
      " 0   Unnamed: 0       685 non-null    object \n",
      " 1   CoinName         685 non-null    object \n",
      " 2   Algorithm        685 non-null    object \n",
      " 3   IsTrading        685 non-null    bool   \n",
      " 4   ProofType        685 non-null    object \n",
      " 5   TotalCoinsMined  685 non-null    float64\n",
      " 6   TotalCoinSupply  685 non-null    object \n",
      "dtypes: bool(1), float64(1), object(5)\n",
      "memory usage: 38.1+ KB\n"
     ]
    }
   ],
   "source": [
    "# drop all rows where where atleast one column has null values\n",
    "df = df.dropna()\n",
    "df.info()"
   ]
  },
  {
   "cell_type": "code",
   "execution_count": 138,
   "metadata": {},
   "outputs": [],
   "source": [
    "# sort the df by TotalCoinsMined in ascending order\n",
    "df = df.sort_values(by='TotalCoinsMined', ascending=True)\n",
    "\n"
   ]
  },
  {
   "cell_type": "code",
   "execution_count": 139,
   "metadata": {},
   "outputs": [
    {
     "name": "stdout",
     "output_type": "stream",
     "text": [
      "<class 'pandas.core.frame.DataFrame'>\n",
      "Int64Index: 532 entries, 0 to 1234\n",
      "Data columns (total 7 columns):\n",
      " #   Column           Non-Null Count  Dtype  \n",
      "---  ------           --------------  -----  \n",
      " 0   Unnamed: 0       532 non-null    object \n",
      " 1   CoinName         532 non-null    object \n",
      " 2   Algorithm        532 non-null    object \n",
      " 3   IsTrading        532 non-null    bool   \n",
      " 4   ProofType        532 non-null    object \n",
      " 5   TotalCoinsMined  532 non-null    float64\n",
      " 6   TotalCoinSupply  532 non-null    object \n",
      "dtypes: bool(1), float64(1), object(5)\n",
      "memory usage: 29.6+ KB\n"
     ]
    }
   ],
   "source": [
    "# drop all rows where TotalCoinsMined is null 0 or less\n",
    "df = df[df['TotalCoinsMined'] > 0]\n",
    "df.info()"
   ]
  },
  {
   "cell_type": "code",
   "execution_count": 141,
   "metadata": {},
   "outputs": [
    {
     "data": {
      "text/plain": [
       "531"
      ]
     },
     "execution_count": 141,
     "metadata": {},
     "output_type": "execute_result"
    }
   ],
   "source": [
    "# determine total count of unique CoinNames and show in a list\n",
    "df['CoinName'].nunique()\n"
   ]
  },
  {
   "cell_type": "code",
   "execution_count": 128,
   "metadata": {},
   "outputs": [
    {
     "name": "stdout",
     "output_type": "stream",
     "text": [
      "<class 'pandas.core.frame.DataFrame'>\n",
      "Int64Index: 532 entries, 0 to 1234\n",
      "Data columns (total 5 columns):\n",
      " #   Column           Non-Null Count  Dtype  \n",
      "---  ------           --------------  -----  \n",
      " 0   Algorithm        532 non-null    object \n",
      " 1   IsTrading        532 non-null    bool   \n",
      " 2   ProofType        532 non-null    object \n",
      " 3   TotalCoinsMined  532 non-null    float64\n",
      " 4   TotalCoinSupply  532 non-null    object \n",
      "dtypes: bool(1), float64(1), object(3)\n",
      "memory usage: 21.3+ KB\n"
     ]
    }
   ],
   "source": [
    "# drop the CoinName and Unnamed: Columns\n",
    "df = df.drop(['CoinName', 'Unnamed: 0'], axis=1)\n",
    "df.info()"
   ]
  },
  {
   "cell_type": "code",
   "execution_count": 105,
   "metadata": {},
   "outputs": [
    {
     "name": "stdout",
     "output_type": "stream",
     "text": [
      "<class 'pandas.core.frame.DataFrame'>\n",
      "Int64Index: 532 entries, 0 to 1234\n",
      "Data columns (total 99 columns):\n",
      " #   Column                            Non-Null Count  Dtype  \n",
      "---  ------                            --------------  -----  \n",
      " 0   TotalCoinsMined                   532 non-null    float64\n",
      " 1   TotalCoinSupply                   532 non-null    object \n",
      " 2   Algorithm_1GB AES Pattern Search  532 non-null    uint8  \n",
      " 3   Algorithm_536                     532 non-null    uint8  \n",
      " 4   Algorithm_Argon2d                 532 non-null    uint8  \n",
      " 5   Algorithm_BLAKE256                532 non-null    uint8  \n",
      " 6   Algorithm_Blake                   532 non-null    uint8  \n",
      " 7   Algorithm_Blake2S                 532 non-null    uint8  \n",
      " 8   Algorithm_Blake2b                 532 non-null    uint8  \n",
      " 9   Algorithm_C11                     532 non-null    uint8  \n",
      " 10  Algorithm_Cloverhash              532 non-null    uint8  \n",
      " 11  Algorithm_Counterparty            532 non-null    uint8  \n",
      " 12  Algorithm_CryptoNight             532 non-null    uint8  \n",
      " 13  Algorithm_CryptoNight Heavy       532 non-null    uint8  \n",
      " 14  Algorithm_CryptoNight-V7          532 non-null    uint8  \n",
      " 15  Algorithm_Cryptonight-GPU         532 non-null    uint8  \n",
      " 16  Algorithm_DPoS                    532 non-null    uint8  \n",
      " 17  Algorithm_Dagger                  532 non-null    uint8  \n",
      " 18  Algorithm_Dagger-Hashimoto        532 non-null    uint8  \n",
      " 19  Algorithm_ECC 256K1               532 non-null    uint8  \n",
      " 20  Algorithm_Equihash                532 non-null    uint8  \n",
      " 21  Algorithm_Equihash+Scrypt         532 non-null    uint8  \n",
      " 22  Algorithm_Ethash                  532 non-null    uint8  \n",
      " 23  Algorithm_Exosis                  532 non-null    uint8  \n",
      " 24  Algorithm_Green Protocol          532 non-null    uint8  \n",
      " 25  Algorithm_Groestl                 532 non-null    uint8  \n",
      " 26  Algorithm_HMQ1725                 532 non-null    uint8  \n",
      " 27  Algorithm_HybridScryptHash256     532 non-null    uint8  \n",
      " 28  Algorithm_IMesh                   532 non-null    uint8  \n",
      " 29  Algorithm_Jump Consistent Hash    532 non-null    uint8  \n",
      " 30  Algorithm_Keccak                  532 non-null    uint8  \n",
      " 31  Algorithm_Leased POS              532 non-null    uint8  \n",
      " 32  Algorithm_Lyra2RE                 532 non-null    uint8  \n",
      " 33  Algorithm_Lyra2REv2               532 non-null    uint8  \n",
      " 34  Algorithm_Lyra2Z                  532 non-null    uint8  \n",
      " 35  Algorithm_M7 POW                  532 non-null    uint8  \n",
      " 36  Algorithm_Multiple                532 non-null    uint8  \n",
      " 37  Algorithm_NIST5                   532 non-null    uint8  \n",
      " 38  Algorithm_NeoScrypt               532 non-null    uint8  \n",
      " 39  Algorithm_Ouroboros               532 non-null    uint8  \n",
      " 40  Algorithm_PHI1612                 532 non-null    uint8  \n",
      " 41  Algorithm_POS 2.0                 532 non-null    uint8  \n",
      " 42  Algorithm_POS 3.0                 532 non-null    uint8  \n",
      " 43  Algorithm_PoS                     532 non-null    uint8  \n",
      " 44  Algorithm_Proof-of-Authority      532 non-null    uint8  \n",
      " 45  Algorithm_Proof-of-BibleHash      532 non-null    uint8  \n",
      " 46  Algorithm_QUAIT                   532 non-null    uint8  \n",
      " 47  Algorithm_QuBit                   532 non-null    uint8  \n",
      " 48  Algorithm_Quark                   532 non-null    uint8  \n",
      " 49  Algorithm_SHA-256                 532 non-null    uint8  \n",
      " 50  Algorithm_SHA-256 + Hive          532 non-null    uint8  \n",
      " 51  Algorithm_SHA-256D                532 non-null    uint8  \n",
      " 52  Algorithm_SHA-512                 532 non-null    uint8  \n",
      " 53  Algorithm_SHA3                    532 non-null    uint8  \n",
      " 54  Algorithm_Scrypt                  532 non-null    uint8  \n",
      " 55  Algorithm_Semux BFT consensus     532 non-null    uint8  \n",
      " 56  Algorithm_Shabal256               532 non-null    uint8  \n",
      " 57  Algorithm_Skein                   532 non-null    uint8  \n",
      " 58  Algorithm_SkunkHash               532 non-null    uint8  \n",
      " 59  Algorithm_SkunkHash v2 Raptor     532 non-null    uint8  \n",
      " 60  Algorithm_Stanford Folding        532 non-null    uint8  \n",
      " 61  Algorithm_TRC10                   532 non-null    uint8  \n",
      " 62  Algorithm_Time Travel             532 non-null    uint8  \n",
      " 63  Algorithm_Tribus                  532 non-null    uint8  \n",
      " 64  Algorithm_VBFT                    532 non-null    uint8  \n",
      " 65  Algorithm_VeChainThor Authority   532 non-null    uint8  \n",
      " 66  Algorithm_X11                     532 non-null    uint8  \n",
      " 67  Algorithm_X11GOST                 532 non-null    uint8  \n",
      " 68  Algorithm_X13                     532 non-null    uint8  \n",
      " 69  Algorithm_X14                     532 non-null    uint8  \n",
      " 70  Algorithm_X15                     532 non-null    uint8  \n",
      " 71  Algorithm_X16R                    532 non-null    uint8  \n",
      " 72  Algorithm_XEVAN                   532 non-null    uint8  \n",
      " 73  ProofType_DPOS                    532 non-null    uint8  \n",
      " 74  ProofType_DPoS                    532 non-null    uint8  \n",
      " 75  ProofType_HPoW                    532 non-null    uint8  \n",
      " 76  ProofType_LPoS                    532 non-null    uint8  \n",
      " 77  ProofType_POBh                    532 non-null    uint8  \n",
      " 78  ProofType_PoA                     532 non-null    uint8  \n",
      " 79  ProofType_PoC                     532 non-null    uint8  \n",
      " 80  ProofType_PoS                     532 non-null    uint8  \n",
      " 81  ProofType_PoS/LPoS                532 non-null    uint8  \n",
      " 82  ProofType_PoS/PoW                 532 non-null    uint8  \n",
      " 83  ProofType_PoS/PoW/PoT             532 non-null    uint8  \n",
      " 84  ProofType_PoST                    532 non-null    uint8  \n",
      " 85  ProofType_PoW                     532 non-null    uint8  \n",
      " 86  ProofType_PoW + Hive              532 non-null    uint8  \n",
      " 87  ProofType_PoW and PoS             532 non-null    uint8  \n",
      " 88  ProofType_PoW/PoS                 532 non-null    uint8  \n",
      " 89  ProofType_PoW/PoS                 532 non-null    uint8  \n",
      " 90  ProofType_PoW/PoW                 532 non-null    uint8  \n",
      " 91  ProofType_PoW/nPoS                532 non-null    uint8  \n",
      " 92  ProofType_Pos                     532 non-null    uint8  \n",
      " 93  ProofType_Proof of Authority      532 non-null    uint8  \n",
      " 94  ProofType_Proof of Trust          532 non-null    uint8  \n",
      " 95  ProofType_TPoS                    532 non-null    uint8  \n",
      " 96  ProofType_Zero-Knowledge Proof    532 non-null    uint8  \n",
      " 97  ProofType_dPoW/PoW                532 non-null    uint8  \n",
      " 98  IsTrading_True                    532 non-null    uint8  \n",
      "dtypes: float64(1), object(1), uint8(97)\n",
      "memory usage: 62.9+ KB\n"
     ]
    }
   ],
   "source": [
    "# convert the Algorithim and ProofType to numerical values using get_dummies\n",
    "dummy_df = pd.get_dummies(df, columns=['Algorithm', 'ProofType', 'IsTrading'])\n",
    "dummy_df.info()\n"
   ]
  },
  {
   "cell_type": "code",
   "execution_count": 106,
   "metadata": {},
   "outputs": [
    {
     "name": "stdout",
     "output_type": "stream",
     "text": [
      "<class 'pandas.core.frame.DataFrame'>\n",
      "Int64Index: 532 entries, 0 to 1234\n",
      "Data columns (total 99 columns):\n",
      " #   Column                            Non-Null Count  Dtype  \n",
      "---  ------                            --------------  -----  \n",
      " 0   TotalCoinsMined                   532 non-null    float64\n",
      " 1   TotalCoinSupply                   532 non-null    object \n",
      " 2   Algorithm_1GB AES Pattern Search  532 non-null    uint8  \n",
      " 3   Algorithm_536                     532 non-null    uint8  \n",
      " 4   Algorithm_Argon2d                 532 non-null    uint8  \n",
      " 5   Algorithm_BLAKE256                532 non-null    uint8  \n",
      " 6   Algorithm_Blake                   532 non-null    uint8  \n",
      " 7   Algorithm_Blake2S                 532 non-null    uint8  \n",
      " 8   Algorithm_Blake2b                 532 non-null    uint8  \n",
      " 9   Algorithm_C11                     532 non-null    uint8  \n",
      " 10  Algorithm_Cloverhash              532 non-null    uint8  \n",
      " 11  Algorithm_Counterparty            532 non-null    uint8  \n",
      " 12  Algorithm_CryptoNight             532 non-null    uint8  \n",
      " 13  Algorithm_CryptoNight Heavy       532 non-null    uint8  \n",
      " 14  Algorithm_CryptoNight-V7          532 non-null    uint8  \n",
      " 15  Algorithm_Cryptonight-GPU         532 non-null    uint8  \n",
      " 16  Algorithm_DPoS                    532 non-null    uint8  \n",
      " 17  Algorithm_Dagger                  532 non-null    uint8  \n",
      " 18  Algorithm_Dagger-Hashimoto        532 non-null    uint8  \n",
      " 19  Algorithm_ECC 256K1               532 non-null    uint8  \n",
      " 20  Algorithm_Equihash                532 non-null    uint8  \n",
      " 21  Algorithm_Equihash+Scrypt         532 non-null    uint8  \n",
      " 22  Algorithm_Ethash                  532 non-null    uint8  \n",
      " 23  Algorithm_Exosis                  532 non-null    uint8  \n",
      " 24  Algorithm_Green Protocol          532 non-null    uint8  \n",
      " 25  Algorithm_Groestl                 532 non-null    uint8  \n",
      " 26  Algorithm_HMQ1725                 532 non-null    uint8  \n",
      " 27  Algorithm_HybridScryptHash256     532 non-null    uint8  \n",
      " 28  Algorithm_IMesh                   532 non-null    uint8  \n",
      " 29  Algorithm_Jump Consistent Hash    532 non-null    uint8  \n",
      " 30  Algorithm_Keccak                  532 non-null    uint8  \n",
      " 31  Algorithm_Leased POS              532 non-null    uint8  \n",
      " 32  Algorithm_Lyra2RE                 532 non-null    uint8  \n",
      " 33  Algorithm_Lyra2REv2               532 non-null    uint8  \n",
      " 34  Algorithm_Lyra2Z                  532 non-null    uint8  \n",
      " 35  Algorithm_M7 POW                  532 non-null    uint8  \n",
      " 36  Algorithm_Multiple                532 non-null    uint8  \n",
      " 37  Algorithm_NIST5                   532 non-null    uint8  \n",
      " 38  Algorithm_NeoScrypt               532 non-null    uint8  \n",
      " 39  Algorithm_Ouroboros               532 non-null    uint8  \n",
      " 40  Algorithm_PHI1612                 532 non-null    uint8  \n",
      " 41  Algorithm_POS 2.0                 532 non-null    uint8  \n",
      " 42  Algorithm_POS 3.0                 532 non-null    uint8  \n",
      " 43  Algorithm_PoS                     532 non-null    uint8  \n",
      " 44  Algorithm_Proof-of-Authority      532 non-null    uint8  \n",
      " 45  Algorithm_Proof-of-BibleHash      532 non-null    uint8  \n",
      " 46  Algorithm_QUAIT                   532 non-null    uint8  \n",
      " 47  Algorithm_QuBit                   532 non-null    uint8  \n",
      " 48  Algorithm_Quark                   532 non-null    uint8  \n",
      " 49  Algorithm_SHA-256                 532 non-null    uint8  \n",
      " 50  Algorithm_SHA-256 + Hive          532 non-null    uint8  \n",
      " 51  Algorithm_SHA-256D                532 non-null    uint8  \n",
      " 52  Algorithm_SHA-512                 532 non-null    uint8  \n",
      " 53  Algorithm_SHA3                    532 non-null    uint8  \n",
      " 54  Algorithm_Scrypt                  532 non-null    uint8  \n",
      " 55  Algorithm_Semux BFT consensus     532 non-null    uint8  \n",
      " 56  Algorithm_Shabal256               532 non-null    uint8  \n",
      " 57  Algorithm_Skein                   532 non-null    uint8  \n",
      " 58  Algorithm_SkunkHash               532 non-null    uint8  \n",
      " 59  Algorithm_SkunkHash v2 Raptor     532 non-null    uint8  \n",
      " 60  Algorithm_Stanford Folding        532 non-null    uint8  \n",
      " 61  Algorithm_TRC10                   532 non-null    uint8  \n",
      " 62  Algorithm_Time Travel             532 non-null    uint8  \n",
      " 63  Algorithm_Tribus                  532 non-null    uint8  \n",
      " 64  Algorithm_VBFT                    532 non-null    uint8  \n",
      " 65  Algorithm_VeChainThor Authority   532 non-null    uint8  \n",
      " 66  Algorithm_X11                     532 non-null    uint8  \n",
      " 67  Algorithm_X11GOST                 532 non-null    uint8  \n",
      " 68  Algorithm_X13                     532 non-null    uint8  \n",
      " 69  Algorithm_X14                     532 non-null    uint8  \n",
      " 70  Algorithm_X15                     532 non-null    uint8  \n",
      " 71  Algorithm_X16R                    532 non-null    uint8  \n",
      " 72  Algorithm_XEVAN                   532 non-null    uint8  \n",
      " 73  ProofType_DPOS                    532 non-null    uint8  \n",
      " 74  ProofType_DPoS                    532 non-null    uint8  \n",
      " 75  ProofType_HPoW                    532 non-null    uint8  \n",
      " 76  ProofType_LPoS                    532 non-null    uint8  \n",
      " 77  ProofType_POBh                    532 non-null    uint8  \n",
      " 78  ProofType_PoA                     532 non-null    uint8  \n",
      " 79  ProofType_PoC                     532 non-null    uint8  \n",
      " 80  ProofType_PoS                     532 non-null    uint8  \n",
      " 81  ProofType_PoS/LPoS                532 non-null    uint8  \n",
      " 82  ProofType_PoS/PoW                 532 non-null    uint8  \n",
      " 83  ProofType_PoS/PoW/PoT             532 non-null    uint8  \n",
      " 84  ProofType_PoST                    532 non-null    uint8  \n",
      " 85  ProofType_PoW                     532 non-null    uint8  \n",
      " 86  ProofType_PoW + Hive              532 non-null    uint8  \n",
      " 87  ProofType_PoW and PoS             532 non-null    uint8  \n",
      " 88  ProofType_PoW/PoS                 532 non-null    uint8  \n",
      " 89  ProofType_PoW/PoS                 532 non-null    uint8  \n",
      " 90  ProofType_PoW/PoW                 532 non-null    uint8  \n",
      " 91  ProofType_PoW/nPoS                532 non-null    uint8  \n",
      " 92  ProofType_Pos                     532 non-null    uint8  \n",
      " 93  ProofType_Proof of Authority      532 non-null    uint8  \n",
      " 94  ProofType_Proof of Trust          532 non-null    uint8  \n",
      " 95  ProofType_TPoS                    532 non-null    uint8  \n",
      " 96  ProofType_Zero-Knowledge Proof    532 non-null    uint8  \n",
      " 97  ProofType_dPoW/PoW                532 non-null    uint8  \n",
      " 98  IsTrading_True                    532 non-null    uint8  \n",
      "dtypes: float64(1), object(1), uint8(97)\n",
      "memory usage: 62.9+ KB\n"
     ]
    }
   ],
   "source": [
    "\n",
    "# comvert dummy df to a dataframe\n",
    "dummy_df = pd.DataFrame(dummy_df)\n",
    "dummy_df.info()\n",
    "\n"
   ]
  },
  {
   "cell_type": "code",
   "execution_count": 107,
   "metadata": {},
   "outputs": [
    {
     "data": {
      "text/html": [
       "<div>\n",
       "<style scoped>\n",
       "    .dataframe tbody tr th:only-of-type {\n",
       "        vertical-align: middle;\n",
       "    }\n",
       "\n",
       "    .dataframe tbody tr th {\n",
       "        vertical-align: top;\n",
       "    }\n",
       "\n",
       "    .dataframe thead th {\n",
       "        text-align: right;\n",
       "    }\n",
       "</style>\n",
       "<table border=\"1\" class=\"dataframe\">\n",
       "  <thead>\n",
       "    <tr style=\"text-align: right;\">\n",
       "      <th></th>\n",
       "      <th>TotalCoinsMined</th>\n",
       "      <th>TotalCoinSupply</th>\n",
       "      <th>Algorithm_1GB AES Pattern Search</th>\n",
       "      <th>Algorithm_536</th>\n",
       "      <th>Algorithm_Argon2d</th>\n",
       "      <th>Algorithm_BLAKE256</th>\n",
       "      <th>Algorithm_Blake</th>\n",
       "      <th>Algorithm_Blake2S</th>\n",
       "      <th>Algorithm_Blake2b</th>\n",
       "      <th>Algorithm_C11</th>\n",
       "      <th>...</th>\n",
       "      <th>ProofType_PoW/PoS</th>\n",
       "      <th>ProofType_PoW/PoW</th>\n",
       "      <th>ProofType_PoW/nPoS</th>\n",
       "      <th>ProofType_Pos</th>\n",
       "      <th>ProofType_Proof of Authority</th>\n",
       "      <th>ProofType_Proof of Trust</th>\n",
       "      <th>ProofType_TPoS</th>\n",
       "      <th>ProofType_Zero-Knowledge Proof</th>\n",
       "      <th>ProofType_dPoW/PoW</th>\n",
       "      <th>IsTrading_True</th>\n",
       "    </tr>\n",
       "  </thead>\n",
       "  <tbody>\n",
       "    <tr>\n",
       "      <th>0</th>\n",
       "      <td>-0.117108</td>\n",
       "      <td>-0.152870</td>\n",
       "      <td>-0.043396</td>\n",
       "      <td>-0.043396</td>\n",
       "      <td>-0.043396</td>\n",
       "      <td>-0.06143</td>\n",
       "      <td>-0.075307</td>\n",
       "      <td>-0.043396</td>\n",
       "      <td>-0.06143</td>\n",
       "      <td>-0.06143</td>\n",
       "      <td>...</td>\n",
       "      <td>-0.043396</td>\n",
       "      <td>-0.043396</td>\n",
       "      <td>-0.043396</td>\n",
       "      <td>-0.043396</td>\n",
       "      <td>-0.043396</td>\n",
       "      <td>-0.043396</td>\n",
       "      <td>-0.043396</td>\n",
       "      <td>-0.043396</td>\n",
       "      <td>-0.043396</td>\n",
       "      <td>0.0</td>\n",
       "    </tr>\n",
       "    <tr>\n",
       "      <th>1</th>\n",
       "      <td>-0.117108</td>\n",
       "      <td>5.521452</td>\n",
       "      <td>-0.043396</td>\n",
       "      <td>-0.043396</td>\n",
       "      <td>-0.043396</td>\n",
       "      <td>-0.06143</td>\n",
       "      <td>-0.075307</td>\n",
       "      <td>-0.043396</td>\n",
       "      <td>-0.06143</td>\n",
       "      <td>-0.06143</td>\n",
       "      <td>...</td>\n",
       "      <td>-0.043396</td>\n",
       "      <td>-0.043396</td>\n",
       "      <td>-0.043396</td>\n",
       "      <td>-0.043396</td>\n",
       "      <td>-0.043396</td>\n",
       "      <td>-0.043396</td>\n",
       "      <td>-0.043396</td>\n",
       "      <td>-0.043396</td>\n",
       "      <td>-0.043396</td>\n",
       "      <td>0.0</td>\n",
       "    </tr>\n",
       "    <tr>\n",
       "      <th>2</th>\n",
       "      <td>-0.117108</td>\n",
       "      <td>-0.152870</td>\n",
       "      <td>-0.043396</td>\n",
       "      <td>-0.043396</td>\n",
       "      <td>-0.043396</td>\n",
       "      <td>-0.06143</td>\n",
       "      <td>-0.075307</td>\n",
       "      <td>-0.043396</td>\n",
       "      <td>-0.06143</td>\n",
       "      <td>-0.06143</td>\n",
       "      <td>...</td>\n",
       "      <td>-0.043396</td>\n",
       "      <td>-0.043396</td>\n",
       "      <td>-0.043396</td>\n",
       "      <td>-0.043396</td>\n",
       "      <td>-0.043396</td>\n",
       "      <td>-0.043396</td>\n",
       "      <td>-0.043396</td>\n",
       "      <td>-0.043396</td>\n",
       "      <td>-0.043396</td>\n",
       "      <td>0.0</td>\n",
       "    </tr>\n",
       "    <tr>\n",
       "      <th>3</th>\n",
       "      <td>-0.117107</td>\n",
       "      <td>-0.152863</td>\n",
       "      <td>-0.043396</td>\n",
       "      <td>-0.043396</td>\n",
       "      <td>-0.043396</td>\n",
       "      <td>-0.06143</td>\n",
       "      <td>-0.075307</td>\n",
       "      <td>-0.043396</td>\n",
       "      <td>-0.06143</td>\n",
       "      <td>-0.06143</td>\n",
       "      <td>...</td>\n",
       "      <td>-0.043396</td>\n",
       "      <td>-0.043396</td>\n",
       "      <td>-0.043396</td>\n",
       "      <td>-0.043396</td>\n",
       "      <td>-0.043396</td>\n",
       "      <td>-0.043396</td>\n",
       "      <td>-0.043396</td>\n",
       "      <td>-0.043396</td>\n",
       "      <td>-0.043396</td>\n",
       "      <td>0.0</td>\n",
       "    </tr>\n",
       "    <tr>\n",
       "      <th>4</th>\n",
       "      <td>-0.117106</td>\n",
       "      <td>-0.144004</td>\n",
       "      <td>-0.043396</td>\n",
       "      <td>-0.043396</td>\n",
       "      <td>-0.043396</td>\n",
       "      <td>-0.06143</td>\n",
       "      <td>-0.075307</td>\n",
       "      <td>-0.043396</td>\n",
       "      <td>-0.06143</td>\n",
       "      <td>-0.06143</td>\n",
       "      <td>...</td>\n",
       "      <td>-0.043396</td>\n",
       "      <td>-0.043396</td>\n",
       "      <td>-0.043396</td>\n",
       "      <td>-0.043396</td>\n",
       "      <td>-0.043396</td>\n",
       "      <td>-0.043396</td>\n",
       "      <td>-0.043396</td>\n",
       "      <td>-0.043396</td>\n",
       "      <td>-0.043396</td>\n",
       "      <td>0.0</td>\n",
       "    </tr>\n",
       "  </tbody>\n",
       "</table>\n",
       "<p>5 rows × 99 columns</p>\n",
       "</div>"
      ],
      "text/plain": [
       "   TotalCoinsMined  TotalCoinSupply  Algorithm_1GB AES Pattern Search  \\\n",
       "0        -0.117108        -0.152870                         -0.043396   \n",
       "1        -0.117108         5.521452                         -0.043396   \n",
       "2        -0.117108        -0.152870                         -0.043396   \n",
       "3        -0.117107        -0.152863                         -0.043396   \n",
       "4        -0.117106        -0.144004                         -0.043396   \n",
       "\n",
       "   Algorithm_536  Algorithm_Argon2d  Algorithm_BLAKE256  Algorithm_Blake  \\\n",
       "0      -0.043396          -0.043396            -0.06143        -0.075307   \n",
       "1      -0.043396          -0.043396            -0.06143        -0.075307   \n",
       "2      -0.043396          -0.043396            -0.06143        -0.075307   \n",
       "3      -0.043396          -0.043396            -0.06143        -0.075307   \n",
       "4      -0.043396          -0.043396            -0.06143        -0.075307   \n",
       "\n",
       "   Algorithm_Blake2S  Algorithm_Blake2b  Algorithm_C11  ...  \\\n",
       "0          -0.043396           -0.06143       -0.06143  ...   \n",
       "1          -0.043396           -0.06143       -0.06143  ...   \n",
       "2          -0.043396           -0.06143       -0.06143  ...   \n",
       "3          -0.043396           -0.06143       -0.06143  ...   \n",
       "4          -0.043396           -0.06143       -0.06143  ...   \n",
       "\n",
       "   ProofType_PoW/PoS   ProofType_PoW/PoW  ProofType_PoW/nPoS  ProofType_Pos  \\\n",
       "0           -0.043396          -0.043396           -0.043396      -0.043396   \n",
       "1           -0.043396          -0.043396           -0.043396      -0.043396   \n",
       "2           -0.043396          -0.043396           -0.043396      -0.043396   \n",
       "3           -0.043396          -0.043396           -0.043396      -0.043396   \n",
       "4           -0.043396          -0.043396           -0.043396      -0.043396   \n",
       "\n",
       "   ProofType_Proof of Authority  ProofType_Proof of Trust  ProofType_TPoS  \\\n",
       "0                     -0.043396                 -0.043396       -0.043396   \n",
       "1                     -0.043396                 -0.043396       -0.043396   \n",
       "2                     -0.043396                 -0.043396       -0.043396   \n",
       "3                     -0.043396                 -0.043396       -0.043396   \n",
       "4                     -0.043396                 -0.043396       -0.043396   \n",
       "\n",
       "   ProofType_Zero-Knowledge Proof  ProofType_dPoW/PoW  IsTrading_True  \n",
       "0                       -0.043396           -0.043396             0.0  \n",
       "1                       -0.043396           -0.043396             0.0  \n",
       "2                       -0.043396           -0.043396             0.0  \n",
       "3                       -0.043396           -0.043396             0.0  \n",
       "4                       -0.043396           -0.043396             0.0  \n",
       "\n",
       "[5 rows x 99 columns]"
      ]
     },
     "execution_count": 107,
     "metadata": {},
     "output_type": "execute_result"
    }
   ],
   "source": [
    "# standardize all the data so that columns that contain larger values do not unduly influence the outcome\n",
    "from sklearn.preprocessing import StandardScaler\n",
    "scaler = StandardScaler()\n",
    "scaler.fit(dummy_df)\n",
    "scaled_df = scaler.transform(dummy_df)\n",
    "scaled_df = pd.DataFrame(scaled_df, columns=dummy_df.columns)\n",
    "scaled_df.head()"
   ]
  },
  {
   "cell_type": "markdown",
   "metadata": {},
   "source": [
    "### Dimension reduction will be completed using PCA to achieve 90% explained variance and once reduced, then t-SNE will be used to reduce the data to two features to identify and analyze clusters."
   ]
  },
  {
   "cell_type": "code",
   "execution_count": 108,
   "metadata": {},
   "outputs": [],
   "source": [
    "#  import the PCA library\n",
    "from sklearn.decomposition import PCA\n",
    "\n",
    "#  intialize the PCA object\n",
    "pca = PCA(n_components=0.9)\n",
    "\n",
    "#  get the principal components of the scaled data\n",
    "principal_components = pca.fit_transform(scaled_df)\n"
   ]
  },
  {
   "cell_type": "code",
   "execution_count": 109,
   "metadata": {},
   "outputs": [
    {
     "name": "stdout",
     "output_type": "stream",
     "text": [
      "<class 'pandas.core.frame.DataFrame'>\n",
      "RangeIndex: 532 entries, 0 to 531\n",
      "Data columns (total 74 columns):\n",
      " #   Column  Non-Null Count  Dtype  \n",
      "---  ------  --------------  -----  \n",
      " 0   0       532 non-null    float64\n",
      " 1   1       532 non-null    float64\n",
      " 2   2       532 non-null    float64\n",
      " 3   3       532 non-null    float64\n",
      " 4   4       532 non-null    float64\n",
      " 5   5       532 non-null    float64\n",
      " 6   6       532 non-null    float64\n",
      " 7   7       532 non-null    float64\n",
      " 8   8       532 non-null    float64\n",
      " 9   9       532 non-null    float64\n",
      " 10  10      532 non-null    float64\n",
      " 11  11      532 non-null    float64\n",
      " 12  12      532 non-null    float64\n",
      " 13  13      532 non-null    float64\n",
      " 14  14      532 non-null    float64\n",
      " 15  15      532 non-null    float64\n",
      " 16  16      532 non-null    float64\n",
      " 17  17      532 non-null    float64\n",
      " 18  18      532 non-null    float64\n",
      " 19  19      532 non-null    float64\n",
      " 20  20      532 non-null    float64\n",
      " 21  21      532 non-null    float64\n",
      " 22  22      532 non-null    float64\n",
      " 23  23      532 non-null    float64\n",
      " 24  24      532 non-null    float64\n",
      " 25  25      532 non-null    float64\n",
      " 26  26      532 non-null    float64\n",
      " 27  27      532 non-null    float64\n",
      " 28  28      532 non-null    float64\n",
      " 29  29      532 non-null    float64\n",
      " 30  30      532 non-null    float64\n",
      " 31  31      532 non-null    float64\n",
      " 32  32      532 non-null    float64\n",
      " 33  33      532 non-null    float64\n",
      " 34  34      532 non-null    float64\n",
      " 35  35      532 non-null    float64\n",
      " 36  36      532 non-null    float64\n",
      " 37  37      532 non-null    float64\n",
      " 38  38      532 non-null    float64\n",
      " 39  39      532 non-null    float64\n",
      " 40  40      532 non-null    float64\n",
      " 41  41      532 non-null    float64\n",
      " 42  42      532 non-null    float64\n",
      " 43  43      532 non-null    float64\n",
      " 44  44      532 non-null    float64\n",
      " 45  45      532 non-null    float64\n",
      " 46  46      532 non-null    float64\n",
      " 47  47      532 non-null    float64\n",
      " 48  48      532 non-null    float64\n",
      " 49  49      532 non-null    float64\n",
      " 50  50      532 non-null    float64\n",
      " 51  51      532 non-null    float64\n",
      " 52  52      532 non-null    float64\n",
      " 53  53      532 non-null    float64\n",
      " 54  54      532 non-null    float64\n",
      " 55  55      532 non-null    float64\n",
      " 56  56      532 non-null    float64\n",
      " 57  57      532 non-null    float64\n",
      " 58  58      532 non-null    float64\n",
      " 59  59      532 non-null    float64\n",
      " 60  60      532 non-null    float64\n",
      " 61  61      532 non-null    float64\n",
      " 62  62      532 non-null    float64\n",
      " 63  63      532 non-null    float64\n",
      " 64  64      532 non-null    float64\n",
      " 65  65      532 non-null    float64\n",
      " 66  66      532 non-null    float64\n",
      " 67  67      532 non-null    float64\n",
      " 68  68      532 non-null    float64\n",
      " 69  69      532 non-null    float64\n",
      " 70  70      532 non-null    float64\n",
      " 71  71      532 non-null    float64\n",
      " 72  72      532 non-null    float64\n",
      " 73  73      532 non-null    float64\n",
      "dtypes: float64(74)\n",
      "memory usage: 307.7 KB\n"
     ]
    }
   ],
   "source": [
    "\n",
    "principal_components = pd.DataFrame(principal_components)\n",
    "principal_components.info()\n",
    "\n",
    "\n",
    "\n",
    "\n"
   ]
  },
  {
   "cell_type": "code",
   "execution_count": 110,
   "metadata": {},
   "outputs": [
    {
     "data": {
      "text/plain": [
       "array([0.0279317 , 0.02141802, 0.02051615, 0.02044661, 0.0204466 ,\n",
       "       0.0204466 , 0.0204466 , 0.02042554, 0.01870913, 0.01756291,\n",
       "       0.01741106, 0.01629007, 0.01596154, 0.01551138, 0.01435005,\n",
       "       0.01321122, 0.01236583, 0.01206255, 0.01104295, 0.01071499,\n",
       "       0.01049079, 0.01040887, 0.01039089, 0.01037741, 0.01035414,\n",
       "       0.01034034, 0.01029605, 0.01028233, 0.01028139, 0.01028139,\n",
       "       0.01028138, 0.01027965, 0.01027051, 0.01026331, 0.01026202,\n",
       "       0.01025761, 0.01025565, 0.01025068, 0.01024924, 0.01024279,\n",
       "       0.01024259, 0.01024259, 0.0102419 , 0.01024018, 0.01023676,\n",
       "       0.01023495, 0.01023   , 0.01022442, 0.0102233 , 0.0102233 ,\n",
       "       0.0102233 , 0.0102233 , 0.0102233 , 0.0102233 , 0.0102233 ,\n",
       "       0.0102233 , 0.0102233 , 0.0102233 , 0.0102233 , 0.0102233 ,\n",
       "       0.0102233 , 0.0102233 , 0.0102233 , 0.0102233 , 0.0102233 ,\n",
       "       0.0102233 , 0.0102233 , 0.0102233 , 0.0102233 , 0.0102233 ,\n",
       "       0.0102233 , 0.0102233 , 0.0102233 , 0.0102233 ])"
      ]
     },
     "execution_count": 110,
     "metadata": {},
     "output_type": "execute_result"
    }
   ],
   "source": [
    "# Fetch the explained variance\n",
    "pca.explained_variance_ratio_"
   ]
  },
  {
   "cell_type": "code",
   "execution_count": 111,
   "metadata": {},
   "outputs": [],
   "source": [
    "#  further reduce the principal_components using t-SNE\n",
    "from sklearn.manifold import TSNE\n",
    "\n",
    "# create a new dataframe for the t-SNE\n",
    "tsne_df = pd.DataFrame(principal_components)\n",
    "# tsne_df.info()\n"
   ]
  },
  {
   "cell_type": "code",
   "execution_count": 112,
   "metadata": {},
   "outputs": [],
   "source": [
    "# intialize the t-SNE object\n",
    "tsne = TSNE(learning_rate=35)"
   ]
  },
  {
   "cell_type": "code",
   "execution_count": 113,
   "metadata": {},
   "outputs": [
    {
     "name": "stderr",
     "output_type": "stream",
     "text": [
      "C:\\Users\\benjy\\anaconda3\\lib\\site-packages\\sklearn\\manifold\\_t_sne.py:780: FutureWarning: The default initialization in TSNE will change from 'random' to 'pca' in 1.2.\n",
      "  warnings.warn(\n"
     ]
    }
   ],
   "source": [
    "# reduce the dimensions of the data\n",
    "tsne_features = tsne.fit_transform(tsne_df)"
   ]
  },
  {
   "cell_type": "code",
   "execution_count": 114,
   "metadata": {},
   "outputs": [
    {
     "data": {
      "text/plain": [
       "(532, 2)"
      ]
     },
     "execution_count": 114,
     "metadata": {},
     "output_type": "execute_result"
    }
   ],
   "source": [
    "# check the shape of the data\n",
    "tsne_features.shape"
   ]
  },
  {
   "cell_type": "code",
   "execution_count": 115,
   "metadata": {},
   "outputs": [],
   "source": [
    "# prepare to plot the data\n",
    "tsne_df['X'] = tsne_features[:, 0]\n",
    "tsne_df['Y'] = tsne_features[:, 1]\n"
   ]
  },
  {
   "cell_type": "code",
   "execution_count": 116,
   "metadata": {},
   "outputs": [
    {
     "data": {
      "image/png": "[encoded data removed]",
      "text/plain": [
       "<Figure size 432x288 with 1 Axes>"
      ]
     },
     "metadata": {
      "needs_background": "light"
     },
     "output_type": "display_data"
    }
   ],
   "source": [
    "# vizualize the clusters\n",
    "plt.scatter(tsne_df['X'], tsne_df['Y'])\n",
    "plt.show()"
   ]
  },
  {
   "cell_type": "markdown",
   "metadata": {},
   "source": [
    "### Cluster Analysis will be completed using k-Means model"
   ]
  },
  {
   "cell_type": "code",
   "execution_count": 117,
   "metadata": {},
   "outputs": [],
   "source": [
    "# import the KMeans library\n",
    "from sklearn.cluster import KMeans\n"
   ]
  },
  {
   "cell_type": "code",
   "execution_count": 118,
   "metadata": {},
   "outputs": [
    {
     "name": "stderr",
     "output_type": "stream",
     "text": [
      "C:\\Users\\benjy\\anaconda3\\lib\\site-packages\\sklearn\\utils\\validation.py:1675: FutureWarning: Feature names only support names that are all strings. Got feature names with dtypes: ['int', 'str']. An error will be raised in 1.2.\n",
      "  warnings.warn(\n",
      "C:\\Users\\benjy\\anaconda3\\lib\\site-packages\\sklearn\\cluster\\_kmeans.py:1039: UserWarning: KMeans is known to have a memory leak on Windows with MKL, when there are less chunks than available threads. You can avoid it by setting the environment variable OMP_NUM_THREADS=3.\n",
      "  warnings.warn(\n",
      "C:\\Users\\benjy\\anaconda3\\lib\\site-packages\\sklearn\\utils\\validation.py:1675: FutureWarning: Feature names only support names that are all strings. Got feature names with dtypes: ['int', 'str']. An error will be raised in 1.2.\n",
      "  warnings.warn(\n",
      "C:\\Users\\benjy\\anaconda3\\lib\\site-packages\\sklearn\\utils\\validation.py:1675: FutureWarning: Feature names only support names that are all strings. Got feature names with dtypes: ['int', 'str']. An error will be raised in 1.2.\n",
      "  warnings.warn(\n",
      "C:\\Users\\benjy\\anaconda3\\lib\\site-packages\\sklearn\\utils\\validation.py:1675: FutureWarning: Feature names only support names that are all strings. Got feature names with dtypes: ['int', 'str']. An error will be raised in 1.2.\n",
      "  warnings.warn(\n",
      "C:\\Users\\benjy\\anaconda3\\lib\\site-packages\\sklearn\\utils\\validation.py:1675: FutureWarning: Feature names only support names that are all strings. Got feature names with dtypes: ['int', 'str']. An error will be raised in 1.2.\n",
      "  warnings.warn(\n",
      "C:\\Users\\benjy\\anaconda3\\lib\\site-packages\\sklearn\\utils\\validation.py:1675: FutureWarning: Feature names only support names that are all strings. Got feature names with dtypes: ['int', 'str']. An error will be raised in 1.2.\n",
      "  warnings.warn(\n",
      "C:\\Users\\benjy\\anaconda3\\lib\\site-packages\\sklearn\\utils\\validation.py:1675: FutureWarning: Feature names only support names that are all strings. Got feature names with dtypes: ['int', 'str']. An error will be raised in 1.2.\n",
      "  warnings.warn(\n",
      "C:\\Users\\benjy\\anaconda3\\lib\\site-packages\\sklearn\\utils\\validation.py:1675: FutureWarning: Feature names only support names that are all strings. Got feature names with dtypes: ['int', 'str']. An error will be raised in 1.2.\n",
      "  warnings.warn(\n"
     ]
    },
    {
     "name": "stdout",
     "output_type": "stream",
     "text": [
      "<class 'pandas.core.frame.DataFrame'>\n",
      "RangeIndex: 10 entries, 0 to 9\n",
      "Data columns (total 2 columns):\n",
      " #   Column   Non-Null Count  Dtype  \n",
      "---  ------   --------------  -----  \n",
      " 0   k        10 non-null     int64  \n",
      " 1   inertia  10 non-null     float64\n",
      "dtypes: float64(1), int64(1)\n",
      "memory usage: 288.0 bytes\n"
     ]
    },
    {
     "name": "stderr",
     "output_type": "stream",
     "text": [
      "C:\\Users\\benjy\\anaconda3\\lib\\site-packages\\sklearn\\utils\\validation.py:1675: FutureWarning: Feature names only support names that are all strings. Got feature names with dtypes: ['int', 'str']. An error will be raised in 1.2.\n",
      "  warnings.warn(\n",
      "C:\\Users\\benjy\\anaconda3\\lib\\site-packages\\sklearn\\utils\\validation.py:1675: FutureWarning: Feature names only support names that are all strings. Got feature names with dtypes: ['int', 'str']. An error will be raised in 1.2.\n",
      "  warnings.warn(\n"
     ]
    }
   ],
   "source": [
    "# identify the best number of clusters using the elbow curve\n",
    "inertia = []\n",
    "k = list(range(1, 11))\n",
    "\n",
    "# calculate the inertia for the range of k values\n",
    "for i in k:\n",
    "    km = KMeans(n_clusters=i, random_state=0)\n",
    "    km.fit(tsne_df)\n",
    "    inertia.append(km.inertia_)\n",
    "\n",
    "# create the elbow curve using hvplot\n",
    "elbow_data = {\"k\": k, \"inertia\": inertia}\n",
    "elbow_df = pd.DataFrame(elbow_data)\n",
    "elbow_df.info()\n"
   ]
  },
  {
   "cell_type": "code",
   "execution_count": 119,
   "metadata": {},
   "outputs": [
    {
     "data": {
      "image/png": "[encoded data removed]",
      "text/plain": [
       "<Figure size 432x288 with 1 Axes>"
      ]
     },
     "metadata": {
      "needs_background": "light"
     },
     "output_type": "display_data"
    }
   ],
   "source": [
    "# plot the elbow curve to find the best candidate(s) for k\n",
    "plt.plot(elbow_df['k'], elbow_df['inertia'])\n",
    "plt.xticks(range(1, 11))\n",
    "plt.xlabel('Number of Clusters')\n",
    "plt.ylabel('Inertia')\n",
    "plt.show()"
   ]
  },
  {
   "cell_type": "markdown",
   "metadata": {},
   "source": [
    "## in review of the original crypto data set that included 531 unique coinstypes, 70 algorithim types and 25 proof types, through a combination of both PCA and t-SNE reduction analysis as well as using k-means for clustering analysis, the model noted that 4-5 clusters could be leveraged for analysis by the advisory board.   "
   ]
  }
 ],
 "metadata": {
  "interpreter": {
   "hash": "bce03e0203ca6d29490e03d392228e90828a57ede4d3c15fe8f3c680f7829612"
  },
  "kernelspec": {
   "display_name": "Python 3.8.8 64-bit ('base': conda)",
   "language": "python",
   "name": "python3"
  },
  "language_info": {
   "codemirror_mode": {
    "name": "ipython",
    "version": 3
   },
   "file_extension": ".py",
   "mimetype": "text/x-python",
   "name": "python",
   "nbconvert_exporter": "python",
   "pygments_lexer": "ipython3",
   "version": "3.8.8"
  },
  "orig_nbformat": 4
 },
 "nbformat": 4,
 "nbformat_minor": 2
}
